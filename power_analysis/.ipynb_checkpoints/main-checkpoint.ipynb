{
 "cells": [
  {
   "cell_type": "code",
   "execution_count": 28,
   "metadata": {},
   "outputs": [],
   "source": [
    "import numpy as np\n",
    "import matplotlib.pyplot as plt\n",
    "import pandas as pd"
   ]
  },
  {
   "cell_type": "code",
   "execution_count": null,
   "metadata": {},
   "outputs": [],
   "source": [
    "%matplotlib inline"
   ]
  },
  {
   "cell_type": "markdown",
   "metadata": {},
   "source": [
    "## Utils\n",
    "\n",
    "The utils are adapted from https://github.com/aloctavodia/Doing_bayesian_data_analysis/blob/master/HDIofICDF.py\n",
    "I simply added more comments to explain what they are for, and modify the returned value of minNforHDIpower so that we can plot the power analysis easily"
   ]
  },
  {
   "cell_type": "code",
   "execution_count": 43,
   "metadata": {},
   "outputs": [],
   "source": [
    "from scipy.optimize import fmin\n",
    "from scipy.stats import *\n",
    "\n",
    "def HDIofICDF(dist_name, credMass=0.95, **args):\n",
    "    # freeze distribution with given arguments\n",
    "    distri = dist_name(**args)\n",
    "    # initial guess for HDIlowTailPr\n",
    "    incredMass =  1.0 - credMass\n",
    "\n",
    "    def intervalWidth(lowTailPr):\n",
    "        return distri.ppf(credMass + lowTailPr) - distri.ppf(lowTailPr)\n",
    "\n",
    "    # find lowTailPr that minimizes intervalWidth\n",
    "    HDIlowTailPr = fmin(intervalWidth, incredMass, ftol=1e-8, disp=False)[0]\n",
    "    # return interval as array([low, high])\n",
    "    return distri.ppf([HDIlowTailPr, credMass + HDIlowTailPr])"
   ]
  },
  {
   "cell_type": "markdown",
   "metadata": {},
   "source": [
    "For power analysis, basically we need to make an assumption on the future result of our experiment. Since power analysis of rejecting null is not bayesian enough, the discussion followed will only focus on precision (width of credible interval or HDI).\n",
    "\n",
    "So what does this precision give us? So think about it, do you want a wide interval or a narrow interval? It might be tempting to think the bigger the better, however, for intervals (including frequentists' confidence interval), we want a narrow interval so as to get more power. In frequentist world, how would you reject a null using confidence interval? You will take the value of null hypothesis and check if the confidence interval captures such value. If postive, then you fail to reject, otherwise, you reject the null. If the interval width is small, then it is more likely that the value of your null hypothesis will be outside of the interval, thus more likely to reject the null, thus more power.\n",
    "\n",
    "Wait, wait, wait...You might wonder \"aren't you discussing the power analysis of rejecting null?\" Well...kinda, I only use it as an example you are familiar with to explain the point of limiting posterior intervals. So for power analysis of precision, the most important thing is not whether our interval captures a target value, but to get the probability of getting a 95% HDI or credible interval, whose width cannot exceed a certain value."
   ]
  },
  {
   "cell_type": "code",
   "execution_count": 60,
   "metadata": {},
   "outputs": [],
   "source": [
    "from scipy.special import binom, betaln\n",
    "import seaborn as sns\n",
    "\n",
    "def minNforHDIpower(genPriorMode, genPriorN, HDImaxwid=None, nullVal=None,\n",
    "                    ROPE=None, desiredPower=0.8, audPriorMode=0.5,\n",
    "                    audPriorN=2, HDImass=0.95, initSampSize=1, verbose=False):\n",
    "    \n",
    "    print(f'========Start of genPriorMode: {genPriorMode}========')\n",
    "    \n",
    "    if HDImaxwid != None  and nullVal != None:\n",
    "        sys.exit('One and only one of HDImaxwid and nullVal must be specified')\n",
    "    if ROPE == None:\n",
    "        ROPE = [nullVal, nullVal]\n",
    "        \n",
    "    # Convert prior mean and N to a, b parameter values of beta distribution.\n",
    "    \n",
    "    # expected real alpha\n",
    "    genPriorA = genPriorMode * genPriorN\n",
    "    # expected real beta\n",
    "    genPriorB = (1.0 - genPriorMode) * genPriorN\n",
    "    \n",
    "    # prior.alpha\n",
    "    audPriorA = audPriorMode * audPriorN\n",
    "    # prior.beta\n",
    "    audPriorB = (1.0 - audPriorMode) * audPriorN\n",
    "    \n",
    "    # Initialize loop for incrementing sampleSize\n",
    "    # We will increment sampleSize until desired power is achieved.\n",
    "    sampleSize = initSampSize\n",
    "    \n",
    "    # store historical sample size and its according powerHDI\n",
    "    # for graphing purpose\n",
    "    ns = []\n",
    "    powerHDIs = []\n",
    "    \n",
    "    while True:\n",
    "        # All possible z values for N flips.\n",
    "        # z stands for the number of successes in sample\n",
    "        zvec = np.arange(0, sampleSize + 1)\n",
    "        \n",
    "        # Compute probability of each z value for data-generating prior.\n",
    "        # This is the probability of our simulated data\n",
    "        pzvec = np.exp(np.log(binom(sampleSize, zvec))\n",
    "                   + betaln(zvec + genPriorA, sampleSize - zvec + genPriorB)\n",
    "                   - betaln(genPriorA, genPriorB))\n",
    "        \n",
    "        # For each z value, compute HDI. hdiMat is min, max of HDI for each z.\n",
    "        hdiMat = np.zeros((len(zvec), 2))\n",
    "        \n",
    "        for zIdx in range(0, len(zvec)):\n",
    "            z = zvec[zIdx]\n",
    "            # Determine the limits of the highest density interval\n",
    "            # We are computing on the posterior density here\n",
    "            # Since beta is a conjugate prior for binomial, we can directly\n",
    "            # know the posterior hyper-params of alpha and beta ->\n",
    "            # a: z + prior.alpha\n",
    "            # b: z + prior.beta\n",
    "            hdiMat[zIdx] = HDIofICDF(beta, credMass=HDImass, a=(z + audPriorA), \n",
    "                                     b=(sampleSize - z + audPriorB))\n",
    "        if HDImaxwid != None:\n",
    "            hdiWid = hdiMat[:,1] - hdiMat[:,0]\n",
    "            # hdiWid: the actual HDI width\n",
    "            # HDImaxwid: Expected max HDI width, set by ourselves, e.g. 0.2\n",
    "            powerHDI = np.sum(pzvec[hdiWid < HDImaxwid])\n",
    "        if nullVal != None:\n",
    "            powerHDI = np.sum(pzvec[(hdiMat[:,0] > ROPE[1]) | \n",
    "                                    (hdiMat[:,1] < ROPE[0])])\n",
    "        \n",
    "        ns.append(sampleSize)\n",
    "        powerHDIs.append(powerHDI)\n",
    "        \n",
    "        if verbose:\n",
    "            print(\" For sample size = %s\\npower = %s\\n\" % (sampleSize, powerHDI))\n",
    "\n",
    "        if powerHDI > desiredPower:\n",
    "            print(f'Achieved target power, genPriorMode: {genPriorMode}, sample size: {sampleSize}, powerHDI: {powerHDI}')\n",
    "            break\n",
    "        else:\n",
    "            sampleSize += 1\n",
    "    print(f'========End of genPriorMode: {genPriorMode}========\\n')         \n",
    "    return (ns, powerHDIs)"
   ]
  },
  {
   "cell_type": "markdown",
   "metadata": {},
   "source": [
    "## Effects you hope to see"
   ]
  },
  {
   "cell_type": "code",
   "execution_count": 58,
   "metadata": {},
   "outputs": [
    {
     "data": {
      "text/plain": [
       "array([0.7       , 0.72222222, 0.74444444, 0.76666667, 0.78888889,\n",
       "       0.81111111, 0.83333333, 0.85555556, 0.87777778, 0.9       ])"
      ]
     },
     "execution_count": 58,
     "metadata": {},
     "output_type": "execute_result"
    }
   ],
   "source": [
    "modes = np.linspace(0.7, 0.9, 10)\n",
    "modes"
   ]
  },
  {
   "cell_type": "markdown",
   "metadata": {},
   "source": [
    "## Simulation"
   ]
  },
  {
   "cell_type": "code",
   "execution_count": 61,
   "metadata": {},
   "outputs": [
    {
     "name": "stdout",
     "output_type": "stream",
     "text": [
      "========Start with genPriorMode: 0.7========\n",
      "Achieved target power, genPriorMode: 0.7, sample size: 90, powerHDI: 0.826693839654963\n",
      "========End genPriorMode: 0.7========\n",
      "\n",
      "========Start with genPriorMode: 0.7222222222222222========\n",
      "Achieved target power, genPriorMode: 0.7222222222222222, sample size: 88, powerHDI: 0.8098217758790327\n",
      "========End genPriorMode: 0.7222222222222222========\n",
      "\n",
      "========Start with genPriorMode: 0.7444444444444445========\n",
      "Achieved target power, genPriorMode: 0.7444444444444445, sample size: 86, powerHDI: 0.8000055519245055\n",
      "========End genPriorMode: 0.7444444444444445========\n",
      "\n",
      "========Start with genPriorMode: 0.7666666666666666========\n",
      "Achieved target power, genPriorMode: 0.7666666666666666, sample size: 83, powerHDI: 0.8013581982764275\n",
      "========End genPriorMode: 0.7666666666666666========\n",
      "\n",
      "========Start with genPriorMode: 0.7888888888888889========\n",
      "Achieved target power, genPriorMode: 0.7888888888888889, sample size: 80, powerHDI: 0.8034186592537148\n",
      "========End genPriorMode: 0.7888888888888889========\n",
      "\n",
      "========Start with genPriorMode: 0.8111111111111111========\n",
      "Achieved target power, genPriorMode: 0.8111111111111111, sample size: 76, powerHDI: 0.8111819252149479\n",
      "========End genPriorMode: 0.8111111111111111========\n",
      "\n",
      "========Start with genPriorMode: 0.8333333333333334========\n",
      "Achieved target power, genPriorMode: 0.8333333333333334, sample size: 72, powerHDI: 0.8167384640722224\n",
      "========End genPriorMode: 0.8333333333333334========\n",
      "\n",
      "========Start with genPriorMode: 0.8555555555555556========\n",
      "Achieved target power, genPriorMode: 0.8555555555555556, sample size: 66, powerHDI: 0.805673237965734\n",
      "========End genPriorMode: 0.8555555555555556========\n",
      "\n",
      "========Start with genPriorMode: 0.8777777777777778========\n",
      "Achieved target power, genPriorMode: 0.8777777777777778, sample size: 60, powerHDI: 0.8130260470262738\n",
      "========End genPriorMode: 0.8777777777777778========\n",
      "\n",
      "========Start with genPriorMode: 0.9========\n",
      "Achieved target power, genPriorMode: 0.9, sample size: 50, powerHDI: 0.8006147592149715\n",
      "========End genPriorMode: 0.9========\n",
      "\n"
     ]
    }
   ],
   "source": [
    "df = pd.DataFrame({ \"Sample Size\": [], \"Power\": [], \"mode\": [] })\n",
    "\n",
    "for mode in modes:\n",
    "    ns, powers = minNforHDIpower(mode, genPriorN=10, HDImaxwid=0.2, initSampSize=20)\n",
    "    _df = pd.DataFrame({ \"Sample Size\": ns, \"Power\": powers, \"mode\": mode })\n",
    "    df = df.append(_df, ignore_index=True)"
   ]
  },
  {
   "cell_type": "code",
   "execution_count": 74,
   "metadata": {},
   "outputs": [
    {
     "data": {
      "image/png": "[encoded data removed]",
      "text/plain": [
       "<Figure size 432x288 with 1 Axes>"
      ]
     },
     "metadata": {},
     "output_type": "display_data"
    }
   ],
   "source": [
    "sns.set_palette(\"muted\")\n",
    "sns.set()\n",
    "\n",
    "sns.lineplot(\n",
    "    x=\"Sample Size\", \n",
    "    y=\"Power\", \n",
    "#     hue=\"mode\",\n",
    "    data=df[df['mode'] == 0.7], \n",
    "    ci=None\n",
    ")\n",
    "\n",
    "plt.show()"
   ]
  },
  {
   "cell_type": "code",
   "execution_count": null,
   "metadata": {},
   "outputs": [],
   "source": []
  }
 ],
 "metadata": {
  "kernelspec": {
   "display_name": "Python 3",
   "language": "python",
   "name": "python3"
  },
  "language_info": {
   "codemirror_mode": {
    "name": "ipython",
    "version": 3
   },
   "file_extension": ".py",
   "mimetype": "text/x-python",
   "name": "python",
   "nbconvert_exporter": "python",
   "pygments_lexer": "ipython3",
   "version": "3.7.2"
  }
 },
 "nbformat": 4,
 "nbformat_minor": 2
}
