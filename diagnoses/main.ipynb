{
 "cells": [
  {
   "cell_type": "markdown",
   "metadata": {},
   "source": [
    "## Introduction"
   ]
  },
  {
   "cell_type": "markdown",
   "metadata": {},
   "source": [
    "In Dr. Israni's examples on convergence diagnoses, coda was introduced to transform stan fit data and calc stats with the data. As I am exposed to more bayesian methods, I found stan might not be the go-to package for python as there is not so much support from third-party libraries as in R. So in the notebook, I am going to introduce limited ways to\n",
    "\n",
    "1. Diagnose with PyStan\n",
    "2. Diagnose with PyMC3\n",
    "\n",
    "Alright, let's cut the sh*t, and get started!"
   ]
  },
  {
   "cell_type": "code",
   "execution_count": 6,
   "metadata": {},
   "outputs": [
    {
     "name": "stdout",
     "output_type": "stream",
     "text": [
      "The autoreload extension is already loaded. To reload it, use:\n",
      "  %reload_ext autoreload\n"
     ]
    }
   ],
   "source": [
    "import pystan\n",
    "from pystan import StanModel\n",
    "from stan_utils import StanModel_cache\n",
    "import arviz as az\n",
    "import seaborn as sns\n",
    "import matplotlib.pyplot as plt\n",
    "import pandas as pd\n",
    "import numpy as np\n",
    "import os\n",
    "\n",
    "%matplotlib inline\n",
    "%load_ext autoreload\n",
    "%autoreload 2\n",
    "\n",
    "CWD = '/Users/chengluli/developer/applied_bayesian'\n",
    "os.chdir(CWD)\n",
    "\n",
    "sns.set(style=\"white\", palette=\"muted\", color_codes=True)"
   ]
  },
  {
   "cell_type": "code",
   "execution_count": 33,
   "metadata": {},
   "outputs": [
    {
     "name": "stdout",
     "output_type": "stream",
     "text": [
      "Requirement already satisfied: pymc3 in /Users/chengluli/anaconda2/envs/stan/lib/python3.7/site-packages (3.6)\n",
      "Requirement already satisfied: scipy>=0.18.1 in /Users/chengluli/anaconda2/envs/stan/lib/python3.7/site-packages (from pymc3) (1.2.1)\n",
      "Requirement already satisfied: h5py>=2.7.0 in /Users/chengluli/anaconda2/envs/stan/lib/python3.7/site-packages (from pymc3) (2.9.0)\n",
      "Requirement already satisfied: joblib<0.13.0 in /Users/chengluli/anaconda2/envs/stan/lib/python3.7/site-packages (from pymc3) (0.12.5)\n",
      "Requirement already satisfied: numpy>=1.13.0 in /Users/chengluli/anaconda2/envs/stan/lib/python3.7/site-packages (from pymc3) (1.15.0)\n",
      "Requirement already satisfied: pandas>=0.18.0 in /Users/chengluli/anaconda2/envs/stan/lib/python3.7/site-packages (from pymc3) (0.24.1)\n",
      "Requirement already satisfied: six>=1.10.0 in /Users/chengluli/anaconda2/envs/stan/lib/python3.7/site-packages (from pymc3) (1.12.0)\n",
      "Requirement already satisfied: patsy>=0.4.0 in /Users/chengluli/anaconda2/envs/stan/lib/python3.7/site-packages (from pymc3) (0.5.1)\n",
      "Requirement already satisfied: tqdm>=4.8.4 in /Users/chengluli/anaconda2/envs/stan/lib/python3.7/site-packages (from pymc3) (4.31.1)\n",
      "Requirement already satisfied: theano>=1.0.0 in /Users/chengluli/anaconda2/envs/stan/lib/python3.7/site-packages (from pymc3) (1.0.4)\n",
      "Requirement already satisfied: pytz>=2011k in /Users/chengluli/anaconda2/envs/stan/lib/python3.7/site-packages (from pandas>=0.18.0->pymc3) (2018.9)\n",
      "Requirement already satisfied: python-dateutil>=2.5.0 in /Users/chengluli/anaconda2/envs/stan/lib/python3.7/site-packages (from pandas>=0.18.0->pymc3) (2.7.5)\n",
      "Collecting package metadata: done\n",
      "Solving environment: done\n",
      "\n",
      "\n",
      "==> WARNING: A newer version of conda exists. <==\n",
      "  current version: 4.6.3\n",
      "  latest version: 4.6.12\n",
      "\n",
      "Please update conda by running\n",
      "\n",
      "    $ conda update -n base conda\n",
      "\n",
      "\n",
      "\n",
      "# All requested packages already installed.\n",
      "\n"
     ]
    }
   ],
   "source": [
    "# install pymc3 and graphviz (graphviz is cool! you will see)\n",
    "!pip install pymc3\n",
    "!conda install -c conda-forge python-graphviz"
   ]
  },
  {
   "cell_type": "markdown",
   "metadata": {},
   "source": [
    "## PyStan and Arviz"
   ]
  },
  {
   "cell_type": "code",
   "execution_count": 5,
   "metadata": {},
   "outputs": [
    {
     "name": "stdout",
     "output_type": "stream",
     "text": [
      "Using cached StanModel\n",
      "Inference for Stan model: anon_model_8d03e3d83999d56e8e9f083dd1b8fc08.\n",
      "4 chains, each with iter=1000; warmup=500; thin=1; \n",
      "post-warmup draws per chain=500, total post-warmup draws=2000.\n",
      "\n",
      "        mean se_mean     sd   2.5%    25%    50%    75%  97.5%  n_eff   Rhat\n",
      "mu      9.53  8.1e-3   0.33   8.88   9.31   9.53   9.76  10.18   1696    1.0\n",
      "sigma   4.92  5.7e-3   0.25   4.46   4.75    4.9   5.08   5.46   1897    1.0\n",
      "lp__  -416.4    0.03   0.97 -418.9 -416.7 -416.1 -415.7 -415.4    824    1.0\n",
      "\n",
      "Samples were drawn using NUTS at Tue Apr 16 14:49:12 2019.\n",
      "For each parameter, n_eff is a crude measure of effective sample size,\n",
      "and Rhat is the potential scale reduction factor on split chains (at \n",
      "convergence, Rhat=1).\n"
     ]
    }
   ],
   "source": [
    "# Simple model from example1\n",
    "\n",
    "model_code = \"\"\"\n",
    "data {\n",
    "  int<lower=0> N;\n",
    "  real Y[N]; // Scores of 20 students in an array\n",
    "}\n",
    "\n",
    "parameters {\n",
    "  real mu;\n",
    "  real<lower=0> sigma;\n",
    "}\n",
    "\n",
    "model {\n",
    "  Y ~ normal(mu,sigma); // Likelihood\n",
    "  mu ~ normal(0,100); // Prior for mu\n",
    "  sigma ~ cauchy(0,100); // Prior for sigma\n",
    "}\n",
    "\"\"\"\n",
    "\n",
    "N = 200\n",
    "Y = np.random.normal(size=N, loc=10, scale=5)\n",
    "\n",
    "data = {\"Y\": Y, \"N\": N}\n",
    "\n",
    "# model is cached so that you can load super fast for any session afterwards\n",
    "sm = StanModel_cache(model_code=model_code)  #can specify cores for parallelization\n",
    "fit = sm.sampling(data=data, warmup=500, iter=1000, chains=4, verbose=True)\n",
    "print(fit)"
   ]
  },
  {
   "cell_type": "markdown",
   "metadata": {},
   "source": [
    "### Diagnoses"
   ]
  },
  {
   "cell_type": "markdown",
   "metadata": {},
   "source": [
    "In the example of `codaBin.r`, the following analysis was conducted:\n",
    "\n",
    "```r\n",
    "fit.mcmc = stan2coda(fit) # transform stan fit to coda object\n",
    "traceplot(fit.mcmc)\n",
    "effectiveSize(fit.mcmc)\n",
    "\n",
    "# new things we have not done before\n",
    "crosscorr.plot(fit.mcmc)\n",
    "autocorr.plot(fit.mcmc)\n",
    "geweke.diag(fit.mcmc)\n",
    "gelman.diag(fit.mcmc)\n",
    "heidel.diag(fit.mcmc)\n",
    "raftery.diag(fit.mcmc)\n",
    "gelman.plot(fit.mcmc)\n",
    "```\n",
    "\n",
    "There are several things we have not covered in the example1 file: `crosscorr, autocorr, geweke, gelman, heidel, raftery`. Unfortunately, we can only do `autocorr, geweke, and gelman` with PyStan and Arviz. But `heidel` and `raftery` are basically used for the same purpose as `geweke`, I guess it is not the end of world. It would be nice if we can compute crosscorrelation though."
   ]
  },
  {
   "cell_type": "code",
   "execution_count": 8,
   "metadata": {},
   "outputs": [],
   "source": [
    "# transform stan fit to arviz data\n",
    "data = az.from_pystan(fit)"
   ]
  },
  {
   "cell_type": "markdown",
   "metadata": {},
   "source": [
    "#### Autocorrelation (ACF)"
   ]
  },
  {
   "cell_type": "code",
   "execution_count": 34,
   "metadata": {},
   "outputs": [
    {
     "data": {
      "text/plain": [
       "array([[<matplotlib.axes._subplots.AxesSubplot object at 0x1c20ef7f98>,\n",
       "        <matplotlib.axes._subplots.AxesSubplot object at 0x1c216fec88>,\n",
       "        <matplotlib.axes._subplots.AxesSubplot object at 0x1c21ab6518>,\n",
       "        <matplotlib.axes._subplots.AxesSubplot object at 0x1c21bc06a0>,\n",
       "        <matplotlib.axes._subplots.AxesSubplot object at 0x106ea1e10>,\n",
       "        <matplotlib.axes._subplots.AxesSubplot object at 0x1c21c92ef0>,\n",
       "        <matplotlib.axes._subplots.AxesSubplot object at 0x1c216dde80>,\n",
       "        <matplotlib.axes._subplots.AxesSubplot object at 0x1c217ad518>]],\n",
       "      dtype=object)"
      ]
     },
     "execution_count": 34,
     "metadata": {},
     "output_type": "execute_result"
    },
    {
     "data": {
      "image/png": "[encoded data removed]",
      "text/plain": [
       "<Figure size 1987.2x662.4 with 8 Axes>"
      ]
     },
     "metadata": {},
     "output_type": "display_data"
    }
   ],
   "source": [
    "# autocorrelation plot\n",
    "# you know how to do traceplot from example1, or check the doc: \n",
    "# https://arviz-devs.github.io/arviz/generated/arviz.plot_trace.html#arviz.plot_trace\n",
    "az.plot_autocorr(data)"
   ]
  },
  {
   "cell_type": "code",
   "execution_count": 16,
   "metadata": {},
   "outputs": [
    {
     "data": {
      "text/plain": [
       "array([ 1.        , -0.02598461,  0.03081264, ..., -0.48294584,\n",
       "       -1.12308372, -0.7624559 ])"
      ]
     },
     "execution_count": 16,
     "metadata": {},
     "output_type": "execute_result"
    }
   ],
   "source": [
    "# autocorrelation stats\n",
    "# notice we are not using the arviz data object here, because that autocorr requires an array as argument\n",
    "# and it is simply easy to get such an array from stan fit\n",
    "az.autocorr(fit['mu'])"
   ]
  },
  {
   "cell_type": "markdown",
   "metadata": {},
   "source": [
    "#### geweke"
   ]
  },
  {
   "cell_type": "code",
   "execution_count": 29,
   "metadata": {},
   "outputs": [
    {
     "data": {
      "text/plain": [
       "array([[ 0.00000000e+00, -1.27186949e-02],\n",
       "       [ 5.20000000e+01, -5.52162324e-02],\n",
       "       [ 1.05000000e+02, -9.74378671e-02],\n",
       "       [ 1.57000000e+02, -5.49204019e-02],\n",
       "       [ 2.10000000e+02,  8.84289318e-04],\n",
       "       [ 2.63000000e+02, -3.78176584e-02],\n",
       "       [ 3.15000000e+02, -2.52324364e-02],\n",
       "       [ 3.68000000e+02, -4.11734654e-03],\n",
       "       [ 4.20000000e+02, -6.26857385e-02],\n",
       "       [ 4.73000000e+02, -3.43824652e-02],\n",
       "       [ 5.26000000e+02, -1.85789442e-02],\n",
       "       [ 5.78000000e+02,  1.28339841e-02],\n",
       "       [ 6.31000000e+02,  2.63344595e-03],\n",
       "       [ 6.83000000e+02,  1.88580937e-02],\n",
       "       [ 7.36000000e+02, -1.02899351e-02],\n",
       "       [ 7.89000000e+02,  5.19818025e-02],\n",
       "       [ 8.41000000e+02, -3.40784382e-02],\n",
       "       [ 8.94000000e+02, -2.37215562e-02],\n",
       "       [ 9.46000000e+02, -7.47682122e-02],\n",
       "       [ 9.99000000e+02, -2.04560332e-01]])"
      ]
     },
     "execution_count": 29,
     "metadata": {},
     "output_type": "execute_result"
    }
   ],
   "source": [
    "# You can also optionally specify named param first=FLOAT_LESS_THAN_1, last=FLOAT_LESS_THAN_1, the default is first=0.1, last=0.5\n",
    "\n",
    "# Return a list of [i, score], where i is the starting index for each interval and score the Geweke score on the interval.\n",
    "# for example, [ 5.20000000e+01, -5.52162324e-02] means the i = 52, and the score is -5.5216...\n",
    "az.geweke(fit['mu'])"
   ]
  },
  {
   "cell_type": "markdown",
   "metadata": {},
   "source": [
    "#### gelman & rubin"
   ]
  },
  {
   "cell_type": "code",
   "execution_count": 39,
   "metadata": {},
   "outputs": [
    {
     "data": {
      "text/plain": [
       "<xarray.Dataset>\n",
       "Dimensions:  ()\n",
       "Data variables:\n",
       "    mu       float64 1.0\n",
       "    sigma    float64 1.0"
      ]
     },
     "execution_count": 39,
     "metadata": {},
     "output_type": "execute_result"
    }
   ],
   "source": [
    "# gelma & rubin\n",
    "# 1.0 rhat val for both mu and sigma\n",
    "az.rhat(data)"
   ]
  },
  {
   "cell_type": "markdown",
   "metadata": {},
   "source": [
    "## PyMC3"
   ]
  },
  {
   "cell_type": "markdown",
   "metadata": {},
   "source": [
    "Same as stan, PyMC3 also uses NUTS, which is the state-of-the-art way of sampling. PyMC3 uses Theano behind the scene, which is a package for tensor. Wait, tensor, that sounds familiar! Well, it is the same meaning of what tensor in tensorflow means: generalized matrix. Theano uses c behind the scene, so it also has a good efficiency in terms of computation (actually, almost all the mainstream frameworks are architected above c or c++). If you decide you do not want to try PyMC3 now, it is totally fine, because it is not perfect (for bayesian, R offers much more packages that build on top of each other. But you can only find commonly used solutions in python). However, **do check with PyMC4, because it will be built upon tensorflow instead of theano, which means much more possibilities as we can make use of the mature community of tensorflow**.\n",
    "\n",
    "Personally I prefer pymc3, because it is more `pythonic`. I am sure you will appreciate the package if you have heavily used python for data analysis. Meanwhile, it is an all-in-one package, meaning you can do almost every common analysis using just one package."
   ]
  },
  {
   "cell_type": "code",
   "execution_count": 43,
   "metadata": {},
   "outputs": [],
   "source": [
    "import pymc3 as pm\n",
    "\n",
    "N = 200\n",
    "Y = np.random.normal(size=N, loc=10, scale=5)\n",
    "\n",
    "with pm.Model() as model:\n",
    "    # prior 1\n",
    "    mu = pm.Normal('mu', mu=0, sd=100)\n",
    "    \n",
    "    # prior 2\n",
    "    sigma = pm.HalfCauchy('sigma', 2.5)\n",
    "    \n",
    "    # likelihood\n",
    "    # we need to pass in the named param \"observed\" in order\n",
    "    # to make this a likelihood\n",
    "    y = pm.Normal('y_likelihood', mu, sigma, observed=Y)"
   ]
  },
  {
   "cell_type": "code",
   "execution_count": 47,
   "metadata": {},
   "outputs": [
    {
     "data": {
      "image/svg+xml": [
       "<?xml version=\"1.0\" encoding=\"UTF-8\" standalone=\"no\"?>\n",
       "<!DOCTYPE svg PUBLIC \"-//W3C//DTD SVG 1.1//EN\"\n",
       " \"http://www.w3.org/Graphics/SVG/1.1/DTD/svg11.dtd\">\n",
       "<!-- Generated by graphviz version 2.40.1 (20161225.0304)\n",
       " -->\n",
       "<!-- Title: %3 Pages: 1 -->\n",
       "<svg width=\"318pt\" height=\"155pt\"\n",
       " viewBox=\"0.00 0.00 317.59 155.00\" xmlns=\"http://www.w3.org/2000/svg\" xmlns:xlink=\"http://www.w3.org/1999/xlink\">\n",
       "<g id=\"graph0\" class=\"graph\" transform=\"scale(1 1) rotate(0) translate(4 151)\">\n",
       "<title>%3</title>\n",
       "<polygon fill=\"#ffffff\" stroke=\"transparent\" points=\"-4,4 -4,-151 313.5871,-151 313.5871,4 -4,4\"/>\n",
       "<g id=\"clust1\" class=\"cluster\">\n",
       "<title>cluster200</title>\n",
       "<path fill=\"none\" stroke=\"#000000\" d=\"M51.7947,-8C51.7947,-8 231.7947,-8 231.7947,-8 237.7947,-8 243.7947,-14 243.7947,-20 243.7947,-20 243.7947,-71 243.7947,-71 243.7947,-77 237.7947,-83 231.7947,-83 231.7947,-83 51.7947,-83 51.7947,-83 45.7947,-83 39.7947,-77 39.7947,-71 39.7947,-71 39.7947,-20 39.7947,-20 39.7947,-14 45.7947,-8 51.7947,-8\"/>\n",
       "<text text-anchor=\"middle\" x=\"224.7947\" y=\"-15.8\" font-family=\"Times,serif\" font-size=\"14.00\" fill=\"#000000\">200</text>\n",
       "</g>\n",
       "<!-- mu -->\n",
       "<g id=\"node1\" class=\"node\">\n",
       "<title>mu</title>\n",
       "<ellipse fill=\"none\" stroke=\"#000000\" cx=\"59.7947\" cy=\"-129\" rx=\"59.5901\" ry=\"18\"/>\n",
       "<text text-anchor=\"middle\" x=\"59.7947\" y=\"-125.3\" font-family=\"Times,serif\" font-size=\"14.00\" fill=\"#000000\">mu ~ Normal</text>\n",
       "</g>\n",
       "<!-- y_likelihood -->\n",
       "<g id=\"node3\" class=\"node\">\n",
       "<title>y_likelihood</title>\n",
       "<ellipse fill=\"#d3d3d3\" stroke=\"#000000\" cx=\"141.7947\" cy=\"-57\" rx=\"94.4839\" ry=\"18\"/>\n",
       "<text text-anchor=\"middle\" x=\"141.7947\" y=\"-53.3\" font-family=\"Times,serif\" font-size=\"14.00\" fill=\"#000000\">y_likelihood ~ Normal</text>\n",
       "</g>\n",
       "<!-- mu&#45;&gt;y_likelihood -->\n",
       "<g id=\"edge1\" class=\"edge\">\n",
       "<title>mu&#45;&gt;y_likelihood</title>\n",
       "<path fill=\"none\" stroke=\"#000000\" d=\"M79.2275,-111.937C89.6172,-102.8144 102.59,-91.4237 114.0249,-81.3833\"/>\n",
       "<polygon fill=\"#000000\" stroke=\"#000000\" points=\"116.4399,-83.9205 121.645,-74.6924 111.8213,-78.6604 116.4399,-83.9205\"/>\n",
       "</g>\n",
       "<!-- sigma -->\n",
       "<g id=\"node2\" class=\"node\">\n",
       "<title>sigma</title>\n",
       "<ellipse fill=\"none\" stroke=\"#000000\" cx=\"223.7947\" cy=\"-129\" rx=\"85.5853\" ry=\"18\"/>\n",
       "<text text-anchor=\"middle\" x=\"223.7947\" y=\"-125.3\" font-family=\"Times,serif\" font-size=\"14.00\" fill=\"#000000\">sigma ~ HalfCauchy</text>\n",
       "</g>\n",
       "<!-- sigma&#45;&gt;y_likelihood -->\n",
       "<g id=\"edge2\" class=\"edge\">\n",
       "<title>sigma&#45;&gt;y_likelihood</title>\n",
       "<path fill=\"none\" stroke=\"#000000\" d=\"M203.525,-111.2022C193.2971,-102.2217 180.7336,-91.1902 169.6165,-81.4289\"/>\n",
       "<polygon fill=\"#000000\" stroke=\"#000000\" points=\"171.6549,-78.561 161.8312,-74.593 167.0363,-83.8211 171.6549,-78.561\"/>\n",
       "</g>\n",
       "</g>\n",
       "</svg>\n"
      ],
      "text/plain": [
       "<graphviz.dot.Digraph at 0x1c2844bba8>"
      ]
     },
     "metadata": {},
     "output_type": "display_data"
    }
   ],
   "source": [
    "# Run it, and bang!\n",
    "# if you run it with jupyter notebook instead of jupyter lab, then you will have to import the function display:\n",
    "# from IPython.display import display\n",
    "# Use the lab! It is the future :p\n",
    "with model:\n",
    "    display(pm.model_to_graphviz(model))"
   ]
  },
  {
   "cell_type": "markdown",
   "metadata": {},
   "source": [
    "As you can see above, we can visualize our model very easily. It might not be so helpful here since the model is simple, but imagine you are doing hierarchical modeling...and how visualization can help you know if you are on the right track."
   ]
  },
  {
   "cell_type": "code",
   "execution_count": 48,
   "metadata": {},
   "outputs": [
    {
     "name": "stderr",
     "output_type": "stream",
     "text": [
      "INFO:pymc3:Auto-assigning NUTS sampler...\n",
      "INFO:pymc3:Initializing NUTS using jitter+adapt_diag...\n",
      "INFO:pymc3:Multiprocess sampling (4 chains in 4 jobs)\n",
      "INFO:pymc3:NUTS: [sigma, mu]\n",
      "Sampling 4 chains: 100%|██████████| 24000/24000 [00:05<00:00, 4247.80draws/s]\n"
     ]
    }
   ],
   "source": [
    "# sampling\n",
    "with model:\n",
    "    trace = pm.sample(5000, tune=1000)"
   ]
  },
  {
   "cell_type": "markdown",
   "metadata": {},
   "source": [
    "### Diagnoses"
   ]
  },
  {
   "cell_type": "markdown",
   "metadata": {},
   "source": [
    "`Arviz` not only supports `PyStan`, but also supports `PyMC3`, so you can do everything above with\n",
    "```python\n",
    "data = az.from_pymc3(trace)\n",
    "```"
   ]
  },
  {
   "cell_type": "code",
   "execution_count": 53,
   "metadata": {},
   "outputs": [
    {
     "data": {
      "text/html": [
       "<div>\n",
       "<style scoped>\n",
       "    .dataframe tbody tr th:only-of-type {\n",
       "        vertical-align: middle;\n",
       "    }\n",
       "\n",
       "    .dataframe tbody tr th {\n",
       "        vertical-align: top;\n",
       "    }\n",
       "\n",
       "    .dataframe thead th {\n",
       "        text-align: right;\n",
       "    }\n",
       "</style>\n",
       "<table border=\"1\" class=\"dataframe\">\n",
       "  <thead>\n",
       "    <tr style=\"text-align: right;\">\n",
       "      <th></th>\n",
       "      <th>mean</th>\n",
       "      <th>sd</th>\n",
       "      <th>mc_error</th>\n",
       "      <th>hpd_2.5</th>\n",
       "      <th>hpd_97.5</th>\n",
       "      <th>n_eff</th>\n",
       "      <th>Rhat</th>\n",
       "    </tr>\n",
       "  </thead>\n",
       "  <tbody>\n",
       "    <tr>\n",
       "      <th>mu</th>\n",
       "      <td>10.205909</td>\n",
       "      <td>0.387109</td>\n",
       "      <td>0.002835</td>\n",
       "      <td>9.444527</td>\n",
       "      <td>10.959479</td>\n",
       "      <td>20848.964310</td>\n",
       "      <td>1.000065</td>\n",
       "    </tr>\n",
       "    <tr>\n",
       "      <th>sigma</th>\n",
       "      <td>5.404030</td>\n",
       "      <td>0.274316</td>\n",
       "      <td>0.001821</td>\n",
       "      <td>4.879118</td>\n",
       "      <td>5.944513</td>\n",
       "      <td>20180.584686</td>\n",
       "      <td>0.999946</td>\n",
       "    </tr>\n",
       "  </tbody>\n",
       "</table>\n",
       "</div>"
      ],
      "text/plain": [
       "            mean        sd  mc_error   hpd_2.5   hpd_97.5         n_eff  \\\n",
       "mu     10.205909  0.387109  0.002835  9.444527  10.959479  20848.964310   \n",
       "sigma   5.404030  0.274316  0.001821  4.879118   5.944513  20180.584686   \n",
       "\n",
       "           Rhat  \n",
       "mu     1.000065  \n",
       "sigma  0.999946  "
      ]
     },
     "execution_count": 53,
     "metadata": {},
     "output_type": "execute_result"
    }
   ],
   "source": [
    "# get summary\n",
    "# summary generation is much more flexible than stan, you can compute things that are not listed below\n",
    "# see https://docs.pymc.io/api/stats.html to check docs on \"summary\"\n",
    "pm.summary(trace)"
   ]
  },
  {
   "cell_type": "markdown",
   "metadata": {},
   "source": [
    "#### traceplot"
   ]
  },
  {
   "cell_type": "code",
   "execution_count": 54,
   "metadata": {},
   "outputs": [
    {
     "data": {
      "text/plain": [
       "array([[<matplotlib.axes._subplots.AxesSubplot object at 0x1c2d0329e8>,\n",
       "        <matplotlib.axes._subplots.AxesSubplot object at 0x1c2cdf4dd8>],\n",
       "       [<matplotlib.axes._subplots.AxesSubplot object at 0x1c2ce1f438>,\n",
       "        <matplotlib.axes._subplots.AxesSubplot object at 0x1c2ce45a58>]],\n",
       "      dtype=object)"
      ]
     },
     "execution_count": 54,
     "metadata": {},
     "output_type": "execute_result"
    },
    {
     "data": {
      "image/png": "[encoded data removed]",
      "text/plain": [
       "<Figure size 864x288 with 4 Axes>"
      ]
     },
     "metadata": {},
     "output_type": "display_data"
    }
   ],
   "source": [
    "pm.traceplot(trace)"
   ]
  },
  {
   "cell_type": "markdown",
   "metadata": {},
   "source": [
    "#### autocorrelation"
   ]
  },
  {
   "cell_type": "code",
   "execution_count": 55,
   "metadata": {},
   "outputs": [
    {
     "data": {
      "text/plain": [
       "array([[<matplotlib.axes._subplots.AxesSubplot object at 0x1c2cfb8c50>,\n",
       "        <matplotlib.axes._subplots.AxesSubplot object at 0x1c2d664860>,\n",
       "        <matplotlib.axes._subplots.AxesSubplot object at 0x1c2d688f28>,\n",
       "        <matplotlib.axes._subplots.AxesSubplot object at 0x1c228265f8>],\n",
       "       [<matplotlib.axes._subplots.AxesSubplot object at 0x1c2284acc0>,\n",
       "        <matplotlib.axes._subplots.AxesSubplot object at 0x1c228773c8>,\n",
       "        <matplotlib.axes._subplots.AxesSubplot object at 0x1c2289ea90>,\n",
       "        <matplotlib.axes._subplots.AxesSubplot object at 0x1c228cc160>]],\n",
       "      dtype=object)"
      ]
     },
     "execution_count": 55,
     "metadata": {},
     "output_type": "execute_result"
    },
    {
     "data": {
      "image/png": "[encoded data removed]",
      "text/plain": [
       "<Figure size 864x288 with 8 Axes>"
      ]
     },
     "metadata": {},
     "output_type": "display_data"
    }
   ],
   "source": [
    "pm.autocorrplot(trace)"
   ]
  },
  {
   "cell_type": "code",
   "execution_count": 57,
   "metadata": {},
   "outputs": [
    {
     "data": {
      "text/plain": [
       "{0: {'mu': array([ 1.        , -0.06004555,  0.00431107, ..., -0.00953871,\n",
       "          0.00260782, -0.23941377]),\n",
       "  'sigma_log__': array([ 1.        , -0.03937084,  0.02261912, ..., -0.27031097,\n",
       "         -0.12702121, -0.3849934 ]),\n",
       "  'sigma': array([ 1.        , -0.03712763,  0.023783  , ..., -0.21907351,\n",
       "         -0.10678945, -0.36686227])},\n",
       " 1: {'mu': array([ 1.        , -0.02516735,  0.02706685, ..., -0.04037049,\n",
       "         -0.12690549, -0.07629685]),\n",
       "  'sigma_log__': array([ 1.        , -0.03991203, -0.00949921, ..., -0.03280467,\n",
       "          0.1578552 ,  0.223453  ]),\n",
       "  'sigma': array([ 1.        , -0.03819692, -0.00809917, ..., -0.00771645,\n",
       "          0.18350406,  0.2478299 ])},\n",
       " 2: {'mu': array([ 1.        , -0.0342428 ,  0.00112397, ...,  1.0448771 ,\n",
       "         -0.18886711, -0.22899806]),\n",
       "  'sigma_log__': array([ 1.        , -0.04672766,  0.01262888, ..., -0.1882706 ,\n",
       "          0.17387819,  0.28254046]),\n",
       "  'sigma': array([ 1.        , -0.04644634,  0.01043082, ..., -0.1695874 ,\n",
       "          0.19307222,  0.30865791])},\n",
       " 3: {'mu': array([ 1.        , -0.03001497, -0.00267917, ..., -0.07720706,\n",
       "          0.32725843, -1.11528361]),\n",
       "  'sigma_log__': array([ 1.        , -0.0548802 , -0.00337436, ..., -0.11574891,\n",
       "         -0.36535766, -0.51000386]),\n",
       "  'sigma': array([ 1.        , -0.05340151, -0.00196639, ..., -0.1204074 ,\n",
       "         -0.38057186, -0.50808043])}}"
      ]
     },
     "execution_count": 57,
     "metadata": {},
     "output_type": "execute_result"
    }
   ],
   "source": [
    "# you can throw in the trace object directly and get autocorrelation of all chains\n",
    "pm.autocorr(trace)"
   ]
  },
  {
   "cell_type": "markdown",
   "metadata": {},
   "source": [
    "#### geweke"
   ]
  },
  {
   "cell_type": "code",
   "execution_count": 60,
   "metadata": {},
   "outputs": [
    {
     "data": {
      "text/plain": [
       "{0: {'mu': array([[ 0.00000000e+00,  1.09765267e-02],\n",
       "         [ 1.31000000e+02, -3.49795804e-02],\n",
       "         [ 2.62000000e+02, -4.71616382e-02],\n",
       "         [ 3.93000000e+02, -3.79329160e-02],\n",
       "         [ 5.24000000e+02, -3.85259463e-02],\n",
       "         [ 6.55000000e+02, -2.19066437e-02],\n",
       "         [ 7.86000000e+02, -1.61117429e-02],\n",
       "         [ 9.17000000e+02,  4.00389182e-03],\n",
       "         [ 1.04800000e+03,  2.78432127e-02],\n",
       "         [ 1.17900000e+03,  1.21237011e-02],\n",
       "         [ 1.31000000e+03, -1.74131412e-02],\n",
       "         [ 1.44100000e+03, -2.60874404e-02],\n",
       "         [ 1.57200000e+03, -2.35858166e-02],\n",
       "         [ 1.70300000e+03,  5.13979114e-02],\n",
       "         [ 1.83400000e+03,  9.23671960e-03],\n",
       "         [ 1.96500000e+03,  4.07515660e-02],\n",
       "         [ 2.09600000e+03,  4.82426678e-02],\n",
       "         [ 2.22700000e+03,  7.04603652e-02],\n",
       "         [ 2.35800000e+03, -5.86832560e-03],\n",
       "         [ 2.48900000e+03,  9.67737032e-03]]),\n",
       "  'sigma_log__': array([[ 0.00000000e+00,  6.30370451e-03],\n",
       "         [ 1.31000000e+02,  7.42009503e-02],\n",
       "         [ 2.62000000e+02,  2.88045476e-02],\n",
       "         [ 3.93000000e+02, -6.54859896e-03],\n",
       "         [ 5.24000000e+02,  6.67264702e-04],\n",
       "         [ 6.55000000e+02, -2.43595985e-02],\n",
       "         [ 7.86000000e+02,  6.21096148e-03],\n",
       "         [ 9.17000000e+02,  4.17009609e-02],\n",
       "         [ 1.04800000e+03,  7.79807152e-03],\n",
       "         [ 1.17900000e+03, -1.50810959e-02],\n",
       "         [ 1.31000000e+03, -1.51339515e-02],\n",
       "         [ 1.44100000e+03, -1.22168510e-02],\n",
       "         [ 1.57200000e+03, -3.24873062e-02],\n",
       "         [ 1.70300000e+03, -4.73512431e-03],\n",
       "         [ 1.83400000e+03, -2.05884450e-02],\n",
       "         [ 1.96500000e+03,  5.11907178e-02],\n",
       "         [ 2.09600000e+03,  3.05441559e-02],\n",
       "         [ 2.22700000e+03, -2.57212724e-02],\n",
       "         [ 2.35800000e+03,  2.11647943e-02],\n",
       "         [ 2.48900000e+03,  6.68200095e-02]]),\n",
       "  'sigma': array([[ 0.00000000e+00,  5.97071410e-03],\n",
       "         [ 1.31000000e+02,  7.29830649e-02],\n",
       "         [ 2.62000000e+02,  2.67998869e-02],\n",
       "         [ 3.93000000e+02, -9.48282869e-03],\n",
       "         [ 5.24000000e+02, -4.23364062e-03],\n",
       "         [ 6.55000000e+02, -2.81003100e-02],\n",
       "         [ 7.86000000e+02,  3.48051686e-03],\n",
       "         [ 9.17000000e+02,  4.01199845e-02],\n",
       "         [ 1.04800000e+03,  6.48276701e-03],\n",
       "         [ 1.17900000e+03, -1.64395216e-02],\n",
       "         [ 1.31000000e+03, -1.58969875e-02],\n",
       "         [ 1.44100000e+03, -1.10759831e-02],\n",
       "         [ 1.57200000e+03, -3.30121042e-02],\n",
       "         [ 1.70300000e+03, -5.09094312e-03],\n",
       "         [ 1.83400000e+03, -2.24196206e-02],\n",
       "         [ 1.96500000e+03,  4.83031938e-02],\n",
       "         [ 2.09600000e+03,  3.01243593e-02],\n",
       "         [ 2.22700000e+03, -2.23568606e-02],\n",
       "         [ 2.35800000e+03,  2.15078786e-02],\n",
       "         [ 2.48900000e+03,  6.43417623e-02]])},\n",
       " 1: {'mu': array([[ 0.00000000e+00,  5.67955945e-02],\n",
       "         [ 1.31000000e+02,  1.99077316e-02],\n",
       "         [ 2.62000000e+02, -1.67003217e-04],\n",
       "         [ 3.93000000e+02, -5.21342626e-02],\n",
       "         [ 5.24000000e+02, -9.12958187e-02],\n",
       "         [ 6.55000000e+02, -4.97990837e-02],\n",
       "         [ 7.86000000e+02, -3.55871694e-02],\n",
       "         [ 9.17000000e+02, -6.40195907e-03],\n",
       "         [ 1.04800000e+03, -3.11084011e-03],\n",
       "         [ 1.17900000e+03,  8.21722551e-03],\n",
       "         [ 1.31000000e+03,  3.08756492e-02],\n",
       "         [ 1.44100000e+03,  5.17354913e-02],\n",
       "         [ 1.57200000e+03,  7.32203221e-02],\n",
       "         [ 1.70300000e+03,  7.62927979e-02],\n",
       "         [ 1.83400000e+03,  4.25570655e-02],\n",
       "         [ 1.96500000e+03,  3.65263895e-02],\n",
       "         [ 2.09600000e+03,  7.42939664e-02],\n",
       "         [ 2.22700000e+03,  7.73766875e-02],\n",
       "         [ 2.35800000e+03, -4.73475237e-02],\n",
       "         [ 2.48900000e+03, -3.94786722e-02]]),\n",
       "  'sigma_log__': array([[ 0.00000000e+00, -4.18262505e-02],\n",
       "         [ 1.31000000e+02, -6.81586038e-02],\n",
       "         [ 2.62000000e+02, -4.40232512e-02],\n",
       "         [ 3.93000000e+02, -2.33653104e-02],\n",
       "         [ 5.24000000e+02, -2.52691273e-02],\n",
       "         [ 6.55000000e+02, -2.31597627e-02],\n",
       "         [ 7.86000000e+02, -1.68409351e-02],\n",
       "         [ 9.17000000e+02,  1.41658071e-02],\n",
       "         [ 1.04800000e+03,  1.52908803e-02],\n",
       "         [ 1.17900000e+03,  1.40262222e-02],\n",
       "         [ 1.31000000e+03,  2.27401773e-02],\n",
       "         [ 1.44100000e+03,  5.87573682e-02],\n",
       "         [ 1.57200000e+03,  6.55990336e-02],\n",
       "         [ 1.70300000e+03,  4.66742595e-02],\n",
       "         [ 1.83400000e+03,  1.29826950e-02],\n",
       "         [ 1.96500000e+03,  1.86064913e-02],\n",
       "         [ 2.09600000e+03,  1.27310017e-02],\n",
       "         [ 2.22700000e+03,  1.38946168e-02],\n",
       "         [ 2.35800000e+03,  7.51254643e-02],\n",
       "         [ 2.48900000e+03,  6.49017793e-02]]),\n",
       "  'sigma': array([[ 0.00000000e+00, -4.08716413e-02],\n",
       "         [ 1.31000000e+02, -6.87881161e-02],\n",
       "         [ 2.62000000e+02, -4.42882814e-02],\n",
       "         [ 3.93000000e+02, -2.38823396e-02],\n",
       "         [ 5.24000000e+02, -2.66906068e-02],\n",
       "         [ 6.55000000e+02, -2.35762491e-02],\n",
       "         [ 7.86000000e+02, -1.61307241e-02],\n",
       "         [ 9.17000000e+02,  1.58506642e-02],\n",
       "         [ 1.04800000e+03,  1.62770586e-02],\n",
       "         [ 1.17900000e+03,  1.43837162e-02],\n",
       "         [ 1.31000000e+03,  2.22534602e-02],\n",
       "         [ 1.44100000e+03,  5.79280635e-02],\n",
       "         [ 1.57200000e+03,  6.54036781e-02],\n",
       "         [ 1.70300000e+03,  4.48682744e-02],\n",
       "         [ 1.83400000e+03,  1.18308077e-02],\n",
       "         [ 1.96500000e+03,  1.58753623e-02],\n",
       "         [ 2.09600000e+03,  1.06264830e-02],\n",
       "         [ 2.22700000e+03,  1.25644645e-02],\n",
       "         [ 2.35800000e+03,  7.96278209e-02],\n",
       "         [ 2.48900000e+03,  6.92418479e-02]])},\n",
       " 2: {'mu': array([[ 0.00000000e+00, -2.97686059e-02],\n",
       "         [ 1.31000000e+02,  9.70728114e-03],\n",
       "         [ 2.62000000e+02, -2.64996679e-02],\n",
       "         [ 3.93000000e+02, -2.96444541e-02],\n",
       "         [ 5.24000000e+02, -5.22954170e-02],\n",
       "         [ 6.55000000e+02, -4.69128556e-02],\n",
       "         [ 7.86000000e+02, -1.75410093e-02],\n",
       "         [ 9.17000000e+02, -4.45015786e-03],\n",
       "         [ 1.04800000e+03,  2.54099256e-02],\n",
       "         [ 1.17900000e+03,  4.08821260e-02],\n",
       "         [ 1.31000000e+03,  4.11239156e-03],\n",
       "         [ 1.44100000e+03,  5.98276393e-02],\n",
       "         [ 1.57200000e+03,  2.14458345e-02],\n",
       "         [ 1.70300000e+03,  2.21517626e-02],\n",
       "         [ 1.83400000e+03, -3.06033050e-02],\n",
       "         [ 1.96500000e+03, -3.55319208e-02],\n",
       "         [ 2.09600000e+03, -4.68118939e-02],\n",
       "         [ 2.22700000e+03, -7.27007090e-02],\n",
       "         [ 2.35800000e+03, -6.11722544e-02],\n",
       "         [ 2.48900000e+03, -2.09567979e-02]]),\n",
       "  'sigma_log__': array([[ 0.00000000e+00, -3.90275429e-02],\n",
       "         [ 1.31000000e+02, -3.76068240e-02],\n",
       "         [ 2.62000000e+02, -6.83226337e-02],\n",
       "         [ 3.93000000e+02, -9.55728382e-02],\n",
       "         [ 5.24000000e+02, -9.93465380e-02],\n",
       "         [ 6.55000000e+02, -7.89028933e-02],\n",
       "         [ 7.86000000e+02,  1.37696424e-02],\n",
       "         [ 9.17000000e+02,  2.79321521e-02],\n",
       "         [ 1.04800000e+03,  4.95434828e-02],\n",
       "         [ 1.17900000e+03,  1.05964439e-02],\n",
       "         [ 1.31000000e+03, -3.17380470e-04],\n",
       "         [ 1.44100000e+03, -2.51595702e-02],\n",
       "         [ 1.57200000e+03, -6.80629657e-02],\n",
       "         [ 1.70300000e+03, -7.19933956e-02],\n",
       "         [ 1.83400000e+03, -6.82752102e-02],\n",
       "         [ 1.96500000e+03, -5.33092857e-02],\n",
       "         [ 2.09600000e+03, -6.45302801e-02],\n",
       "         [ 2.22700000e+03, -1.75512682e-02],\n",
       "         [ 2.35800000e+03, -7.16558114e-02],\n",
       "         [ 2.48900000e+03, -1.76770418e-03]]),\n",
       "  'sigma': array([[ 0.00000000e+00, -3.48435562e-02],\n",
       "         [ 1.31000000e+02, -3.37125751e-02],\n",
       "         [ 2.62000000e+02, -6.84747821e-02],\n",
       "         [ 3.93000000e+02, -9.72505890e-02],\n",
       "         [ 5.24000000e+02, -9.97044110e-02],\n",
       "         [ 6.55000000e+02, -7.83960029e-02],\n",
       "         [ 7.86000000e+02,  1.42367762e-02],\n",
       "         [ 9.17000000e+02,  2.71581888e-02],\n",
       "         [ 1.04800000e+03,  4.89745128e-02],\n",
       "         [ 1.17900000e+03,  9.05114584e-03],\n",
       "         [ 1.31000000e+03, -2.75939180e-03],\n",
       "         [ 1.44100000e+03, -2.90367940e-02],\n",
       "         [ 1.57200000e+03, -7.22099608e-02],\n",
       "         [ 1.70300000e+03, -7.57933219e-02],\n",
       "         [ 1.83400000e+03, -7.24669633e-02],\n",
       "         [ 1.96500000e+03, -5.63331614e-02],\n",
       "         [ 2.09600000e+03, -6.81472446e-02],\n",
       "         [ 2.22700000e+03, -2.19351044e-02],\n",
       "         [ 2.35800000e+03, -7.45378935e-02],\n",
       "         [ 2.48900000e+03, -2.59303206e-03]])},\n",
       " 3: {'mu': array([[ 0.00000000e+00, -8.22565172e-02],\n",
       "         [ 1.31000000e+02, -4.39126953e-02],\n",
       "         [ 2.62000000e+02, -4.40396305e-02],\n",
       "         [ 3.93000000e+02, -9.99466749e-03],\n",
       "         [ 5.24000000e+02,  1.14117966e-02],\n",
       "         [ 6.55000000e+02,  2.44411382e-02],\n",
       "         [ 7.86000000e+02,  5.08485520e-03],\n",
       "         [ 9.17000000e+02,  1.77523466e-02],\n",
       "         [ 1.04800000e+03, -2.10080982e-02],\n",
       "         [ 1.17900000e+03, -3.53308067e-02],\n",
       "         [ 1.31000000e+03, -6.14735488e-02],\n",
       "         [ 1.44100000e+03, -3.25746429e-02],\n",
       "         [ 1.57200000e+03, -2.46161485e-02],\n",
       "         [ 1.70300000e+03, -2.95657150e-02],\n",
       "         [ 1.83400000e+03, -5.11971271e-02],\n",
       "         [ 1.96500000e+03, -4.20408038e-02],\n",
       "         [ 2.09600000e+03, -2.14877439e-02],\n",
       "         [ 2.22700000e+03, -3.70307308e-02],\n",
       "         [ 2.35800000e+03, -3.88210828e-02],\n",
       "         [ 2.48900000e+03, -5.29140250e-02]]),\n",
       "  'sigma_log__': array([[ 0.00000000e+00,  5.62602151e-03],\n",
       "         [ 1.31000000e+02,  2.50348906e-02],\n",
       "         [ 2.62000000e+02,  2.07679324e-02],\n",
       "         [ 3.93000000e+02,  3.07195795e-02],\n",
       "         [ 5.24000000e+02,  1.36769384e-02],\n",
       "         [ 6.55000000e+02,  5.70833527e-04],\n",
       "         [ 7.86000000e+02, -2.22160508e-02],\n",
       "         [ 9.17000000e+02, -3.13353046e-02],\n",
       "         [ 1.04800000e+03, -4.97480046e-02],\n",
       "         [ 1.17900000e+03, -3.42362429e-02],\n",
       "         [ 1.31000000e+03, -1.17971273e-02],\n",
       "         [ 1.44100000e+03,  1.70155665e-02],\n",
       "         [ 1.57200000e+03, -3.82456425e-02],\n",
       "         [ 1.70300000e+03, -4.27804822e-02],\n",
       "         [ 1.83400000e+03, -3.64285353e-02],\n",
       "         [ 1.96500000e+03, -5.38917485e-02],\n",
       "         [ 2.09600000e+03, -8.16940395e-02],\n",
       "         [ 2.22700000e+03, -9.41485600e-02],\n",
       "         [ 2.35800000e+03, -2.88903783e-02],\n",
       "         [ 2.48900000e+03,  3.57342421e-02]]),\n",
       "  'sigma': array([[ 0.00000000e+00,  4.07178295e-03],\n",
       "         [ 1.31000000e+02,  2.49027925e-02],\n",
       "         [ 2.62000000e+02,  1.99716051e-02],\n",
       "         [ 3.93000000e+02,  3.15582077e-02],\n",
       "         [ 5.24000000e+02,  1.58023255e-02],\n",
       "         [ 6.55000000e+02,  2.62080561e-03],\n",
       "         [ 7.86000000e+02, -2.31710058e-02],\n",
       "         [ 9.17000000e+02, -3.34949177e-02],\n",
       "         [ 1.04800000e+03, -5.19970120e-02],\n",
       "         [ 1.17900000e+03, -3.65412659e-02],\n",
       "         [ 1.31000000e+03, -1.35618400e-02],\n",
       "         [ 1.44100000e+03,  1.64265050e-02],\n",
       "         [ 1.57200000e+03, -3.78134376e-02],\n",
       "         [ 1.70300000e+03, -4.26210261e-02],\n",
       "         [ 1.83400000e+03, -3.91279665e-02],\n",
       "         [ 1.96500000e+03, -5.32014281e-02],\n",
       "         [ 2.09600000e+03, -8.12347880e-02],\n",
       "         [ 2.22700000e+03, -9.03197245e-02],\n",
       "         [ 2.35800000e+03, -2.58847934e-02],\n",
       "         [ 2.48900000e+03,  3.77849382e-02]])}}"
      ]
     },
     "execution_count": 60,
     "metadata": {},
     "output_type": "execute_result"
    }
   ],
   "source": [
    "pm.geweke(trace)"
   ]
  },
  {
   "cell_type": "markdown",
   "metadata": {},
   "source": [
    "#### gelman_rubin"
   ]
  },
  {
   "cell_type": "code",
   "execution_count": 61,
   "metadata": {},
   "outputs": [
    {
     "data": {
      "text/plain": [
       "{'mu': 1.0000647598890964, 'sigma': 0.9999462675839125}"
      ]
     },
     "execution_count": 61,
     "metadata": {},
     "output_type": "execute_result"
    }
   ],
   "source": [
    "pm.gelman_rubin(trace)"
   ]
  },
  {
   "cell_type": "markdown",
   "metadata": {},
   "source": [
    "## Ending"
   ]
  },
  {
   "cell_type": "markdown",
   "metadata": {},
   "source": [
    "For PyMC3, we still have a lot to cover. For example, how to do HLM with PyMC3, and how to incorparate covariance (e.g. LKJ prior)? Can I have fancy plots as in R? Well, don't worry, we will cover that in the next notebook.\n",
    "\n",
    "For HLM, there is something that is like the combination of lmer4 and glm2stan in R, which is called `Bambi`. Yes, the deer. This package is actually created by folks from UT! So shout out to them. We will see how to use both Bambi and PyMC3 next time (PyStan not covered because it is basically the same as in R, since the model code can be grabbed and used)."
   ]
  }
 ],
 "metadata": {
  "kernelspec": {
   "display_name": ".venv",
   "language": "python",
   "name": ".venv"
  },
  "language_info": {
   "codemirror_mode": {
    "name": "ipython",
    "version": 3
   },
   "file_extension": ".py",
   "mimetype": "text/x-python",
   "name": "python",
   "nbconvert_exporter": "python",
   "pygments_lexer": "ipython3",
   "version": "3.7.2"
  }
 },
 "nbformat": 4,
 "nbformat_minor": 2
}
